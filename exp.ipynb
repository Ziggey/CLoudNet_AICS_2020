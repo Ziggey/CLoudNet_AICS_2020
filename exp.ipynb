{
 "cells": [
  {
   "cell_type": "code",
   "execution_count": 2,
   "metadata": {},
   "outputs": [
    {
     "name": "stdout",
     "output_type": "stream",
     "text": [
      "Coefficients :  [ 6.53802336 -0.06344226]\n"
     ]
    },
    {
     "data": {
      "image/png": "[encoded data removed]",
      "text/plain": [
       "<Figure size 432x288 with 1 Axes>"
      ]
     },
     "metadata": {
      "needs_background": "light"
     },
     "output_type": "display_data"
    },
    {
     "name": "stdout",
     "output_type": "stream",
     "text": [
      "Accuracy : 0.9999830810952515\n"
     ]
    }
   ],
   "source": [
    "import numpy as np\n",
    "import matplotlib.pyplot as plt\n",
    "import math\n",
    "from sklearn.metrics import r2_score # For Accuracy Only\n",
    "%matplotlib inline\n",
    "\n",
    "#fit with closed form solution\n",
    "\n",
    "Y = np.array([650.2120319, 609.6619535, 571.9492203, 536.4599426, 503.3212726,\n",
    "       472.1334361, 443.0139852, 415.7232848, 390.1294684, 365.9167447,\n",
    "       343.433587 , 322.1317239, 302.2658523, 283.7633129, 266.2925989,\n",
    "       249.8895476, 234.6623398, 220.3889574, 206.8540781, 194.1904344,\n",
    "       182.4447336, 171.3749864, 161.6639733])\n",
    "\n",
    "X = np.arange(1, len(Y)+1)\n",
    "\n",
    "#fig = plt.figure(figsize=(8, 6))\n",
    "#plt.plot(X,Y,'bo')\n",
    "#plt.show()\n",
    "\n",
    "n = len(X)\n",
    "x_bias = np.ones((n,1))\n",
    "\n",
    "X = np.reshape(X,(n,1))\n",
    "#print(X.shape)\n",
    "\n",
    "Y_log = np.log(Y)\n",
    "\n",
    "x_new = np.append(x_bias,X,axis=1)\n",
    "\n",
    "x_new_transpose = np.transpose(x_new)\n",
    "x_new_transpose_dot_x_new = x_new_transpose.dot(x_new)\n",
    "temp_1 = np.linalg.inv(x_new_transpose_dot_x_new)\n",
    "temp_2 = x_new_transpose.dot(Y_log)\n",
    "theta = temp_1.dot(temp_2)\n",
    "print(\"Coefficients : \",theta)\n",
    "#print(theta[0])\n",
    "\n",
    "# Plot the best fit curve :\n",
    "b = math.e**theta[0]\n",
    "c = theta[1]\n",
    "Y_Plot = b*math.e**(c*X)\n",
    "plt.scatter(X,Y)\n",
    "plt.plot(X,Y_Plot)\n",
    "plt.show()\n",
    "\n",
    "\n",
    "print (\"Accuracy :\",r2_score(Y,Y_Plot))"
   ]
  },
  {
   "cell_type": "code",
   "execution_count": 3,
   "metadata": {},
   "outputs": [
    {
     "data": {
      "text/plain": [
       "(23,)"
      ]
     },
     "execution_count": 3,
     "metadata": {},
     "output_type": "execute_result"
    }
   ],
   "source": [
    "Y.shape"
   ]
  },
  {
   "cell_type": "code",
   "execution_count": 4,
   "metadata": {},
   "outputs": [
    {
     "data": {
      "text/plain": [
       "(23, 1)"
      ]
     },
     "execution_count": 4,
     "metadata": {},
     "output_type": "execute_result"
    }
   ],
   "source": [
    "X.shape"
   ]
  },
  {
   "cell_type": "code",
   "execution_count": 5,
   "metadata": {},
   "outputs": [
    {
     "data": {
      "text/plain": [
       "(23, 2)"
      ]
     },
     "execution_count": 5,
     "metadata": {},
     "output_type": "execute_result"
    }
   ],
   "source": [
    "x_new.shape"
   ]
  },
  {
   "cell_type": "code",
   "execution_count": 6,
   "metadata": {},
   "outputs": [
    {
     "data": {
      "text/plain": [
       "array([[ 1.,  1.,  1.,  1.,  1.,  1.,  1.,  1.,  1.,  1.,  1.,  1.,  1.,\n",
       "         1.,  1.,  1.,  1.,  1.,  1.,  1.,  1.,  1.,  1.],\n",
       "       [ 1.,  2.,  3.,  4.,  5.,  6.,  7.,  8.,  9., 10., 11., 12., 13.,\n",
       "        14., 15., 16., 17., 18., 19., 20., 21., 22., 23.]])"
      ]
     },
     "execution_count": 6,
     "metadata": {},
     "output_type": "execute_result"
    }
   ],
   "source": [
    "x_new_transpose"
   ]
  },
  {
   "cell_type": "code",
   "execution_count": 7,
   "metadata": {},
   "outputs": [
    {
     "data": {
      "text/plain": [
       "(2, 23)"
      ]
     },
     "execution_count": 7,
     "metadata": {},
     "output_type": "execute_result"
    }
   ],
   "source": [
    "x_new_transpose.shape"
   ]
  },
  {
   "cell_type": "code",
   "execution_count": null,
   "metadata": {},
   "outputs": [],
   "source": []
  }
 ],
 "metadata": {
  "kernelspec": {
   "display_name": "Python 3",
   "language": "python",
   "name": "python3"
  },
  "language_info": {
   "codemirror_mode": {
    "name": "ipython",
    "version": 3
   },
   "file_extension": ".py",
   "mimetype": "text/x-python",
   "name": "python",
   "nbconvert_exporter": "python",
   "pygments_lexer": "ipython3",
   "version": "3.7.3"
  }
 },
 "nbformat": 4,
 "nbformat_minor": 2
}
