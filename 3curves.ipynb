{
 "cells": [
  {
   "cell_type": "code",
   "execution_count": 2,
   "metadata": {},
   "outputs": [],
   "source": [
    "import numpy as np\n",
    "from sklearn.model_selection import train_test_split\n",
    "from sklearn import datasets\n",
    "import matplotlib.pyplot as plt\n",
    "import pandas as pd\n",
    "import math"
   ]
  },
  {
   "cell_type": "code",
   "execution_count": 26,
   "metadata": {},
   "outputs": [],
   "source": [
    "df_j = pd.read_csv('C:\\\\Users\\\\obinna.izima\\\\Documents\\\\Documents from Desktop_14.06.2020\\\\traces_March 8\\\\testcurves.csv')\n",
    "j = df_j['Jitter'][:1001].values\n",
    "a = j[:23]\n",
    "b = j[23:62]\n",
    "c = j[62:]\n",
    "#np.asmatrix([a,b,c])\n",
    "a = np.reshape(a, (a.shape[0], 1))\n",
    "b = np.reshape(b, (b.shape[0], 1))\n",
    "c = np.reshape(c, (c.shape[0], 1))\n",
    "\n",
    "Y = np.concatenate((a,b[:23],c[:23]), axis=1)\n",
    "Y_log = np.log(Y)"
   ]
  },
  {
   "cell_type": "code",
   "execution_count": 27,
   "metadata": {},
   "outputs": [
    {
     "data": {
      "text/plain": [
       "array([ 1,  2,  3,  4,  5,  6,  7,  8,  9, 10, 11, 12, 13, 14, 15, 16, 17,\n",
       "       18, 19, 20, 21, 22, 23])"
      ]
     },
     "execution_count": 27,
     "metadata": {},
     "output_type": "execute_result"
    }
   ],
   "source": [
    "X = np.arange(1, len(Y)+1)\n",
    "X"
   ]
  },
  {
   "cell_type": "code",
   "execution_count": 32,
   "metadata": {},
   "outputs": [
    {
     "data": {
      "text/plain": [
       "[<matplotlib.lines.Line2D at 0x1d2720a8860>,\n",
       " <matplotlib.lines.Line2D at 0x1d2720a89b0>,\n",
       " <matplotlib.lines.Line2D at 0x1d2720a8b00>]"
      ]
     },
     "execution_count": 32,
     "metadata": {},
     "output_type": "execute_result"
    },
    {
     "data": {
      "image/png": "[encoded data removed]",
      "text/plain": [
       "<Figure size 432x288 with 1 Axes>"
      ]
     },
     "metadata": {
      "needs_background": "light"
     },
     "output_type": "display_data"
    }
   ],
   "source": [
    "plt.plot(X,Y_log)"
   ]
  },
  {
   "cell_type": "code",
   "execution_count": 33,
   "metadata": {
    "scrolled": true
   },
   "outputs": [],
   "source": [
    "n = len(X)\n",
    "x_bias = np.ones((n,1))\n"
   ]
  },
  {
   "cell_type": "code",
   "execution_count": 34,
   "metadata": {},
   "outputs": [],
   "source": [
    "X = np.reshape(X,(n,1))"
   ]
  },
  {
   "cell_type": "code",
   "execution_count": 31,
   "metadata": {},
   "outputs": [
    {
     "data": {
      "text/plain": [
       "(23, 1)"
      ]
     },
     "execution_count": 31,
     "metadata": {},
     "output_type": "execute_result"
    }
   ],
   "source": [
    "X.shape"
   ]
  },
  {
   "cell_type": "code",
   "execution_count": 35,
   "metadata": {},
   "outputs": [],
   "source": [
    "x_new = np.append(x_bias,X,axis=1)\n",
    "\n",
    "x_new_transpose = np.transpose(x_new)\n",
    "x_new_transpose_dot_x_new = x_new_transpose.dot(x_new)"
   ]
  },
  {
   "cell_type": "code",
   "execution_count": 36,
   "metadata": {},
   "outputs": [],
   "source": [
    "temp_1 = np.linalg.inv(x_new_transpose_dot_x_new)"
   ]
  },
  {
   "cell_type": "code",
   "execution_count": 37,
   "metadata": {},
   "outputs": [],
   "source": [
    "temp_2 = x_new_transpose.dot(Y_log)"
   ]
  },
  {
   "cell_type": "code",
   "execution_count": 38,
   "metadata": {},
   "outputs": [],
   "source": [
    "theta = temp_1.dot(temp_2)"
   ]
  },
  {
   "cell_type": "code",
   "execution_count": 39,
   "metadata": {},
   "outputs": [
    {
     "name": "stdout",
     "output_type": "stream",
     "text": [
      "Coefficients :  [[ 6.53802336  6.01193513  5.59246895]\n",
      " [-0.06344226 -0.06127685 -0.06119578]]\n"
     ]
    }
   ],
   "source": [
    "print(\"Coefficients : \",theta)"
   ]
  },
  {
   "cell_type": "code",
   "execution_count": 40,
   "metadata": {},
   "outputs": [
    {
     "data": {
      "text/plain": [
       "2"
      ]
     },
     "execution_count": 40,
     "metadata": {},
     "output_type": "execute_result"
    }
   ],
   "source": [
    "len(theta)"
   ]
  },
  {
   "cell_type": "code",
   "execution_count": 70,
   "metadata": {},
   "outputs": [
    {
     "data": {
      "text/plain": [
       "[<matplotlib.lines.Line2D at 0x1d2738f15c0>]"
      ]
     },
     "execution_count": 70,
     "metadata": {},
     "output_type": "execute_result"
    },
    {
     "data": {
      "image/png": "[encoded data removed]",
      "text/plain": [
       "<Figure size 432x288 with 1 Axes>"
      ]
     },
     "metadata": {
      "needs_background": "light"
     },
     "output_type": "display_data"
    }
   ],
   "source": [
    "b = math.e**theta[0].mean()\n",
    "c = theta[1].mean()\n",
    "Y_Plot = b*math.e**(c*X)\n",
    "plt.plot(X,Y,'o')\n",
    "plt.plot(X,Y_Plot)"
   ]
  },
  {
   "cell_type": "code",
   "execution_count": 45,
   "metadata": {},
   "outputs": [
    {
     "data": {
      "text/plain": [
       "(23, 1)"
      ]
     },
     "execution_count": 45,
     "metadata": {},
     "output_type": "execute_result"
    }
   ],
   "source": [
    "X.shape"
   ]
  },
  {
   "cell_type": "code",
   "execution_count": 48,
   "metadata": {},
   "outputs": [
    {
     "data": {
      "text/plain": [
       "array([[648.44753339, 384.00604215, 252.46513779],\n",
       "       [608.58636674, 361.18180328, 237.47857111],\n",
       "       [571.17553342, 339.71417296, 223.38162105],\n",
       "       [536.0644073 , 319.5225182 , 210.12147913],\n",
       "       [503.11162149, 300.53099859, 197.64847163],\n",
       "       [472.18449916, 282.66828149, 185.91587352],\n",
       "       [443.15851935, 265.86727403, 174.8797334 ],\n",
       "       [415.91681561, 250.0648712 , 164.49870889],\n",
       "       [390.34970548, 235.20171873, 154.73391169],\n",
       "       [366.35424885, 221.22199024, 145.54876199],\n",
       "       [343.83383353, 208.07317747, 136.90885137],\n",
       "       [322.69778622, 195.70589315, 128.78181392],\n",
       "       [302.8610075 , 184.07368542, 121.13720501],\n",
       "       [284.24362911, 173.13286339, 113.94638724],\n",
       "       [266.77069246, 162.84233305, 107.18242314],\n",
       "       [250.37184679, 153.16344288, 100.81997427],\n",
       "       [234.98106589, 144.05983871,  94.83520631],\n",
       "       [220.53638232, 135.49732716,  89.20569978],\n",
       "       [206.97963789, 127.44374721,  83.91036602],\n",
       "       [194.25624947, 119.8688494 ,  78.92936822],\n",
       "       [182.31498925, 112.74418221,  74.24404711],\n",
       "       [171.10777849, 106.04298519,  69.83685104],\n",
       "       [160.58949394,  99.74008847,  65.69127026]])"
      ]
     },
     "execution_count": 48,
     "metadata": {},
     "output_type": "execute_result"
    }
   ],
   "source": [
    "Y_Plot"
   ]
  },
  {
   "cell_type": "code",
   "execution_count": 56,
   "metadata": {},
   "outputs": [
    {
     "data": {
      "text/plain": [
       "423.04383927351273"
      ]
     },
     "execution_count": 56,
     "metadata": {},
     "output_type": "execute_result"
    }
   ],
   "source": [
    "b"
   ]
  },
  {
   "cell_type": "code",
   "execution_count": 57,
   "metadata": {},
   "outputs": [
    {
     "data": {
      "text/plain": [
       "-0.061971627900407444"
      ]
     },
     "execution_count": 57,
     "metadata": {},
     "output_type": "execute_result"
    }
   ],
   "source": [
    "c"
   ]
  },
  {
   "cell_type": "code",
   "execution_count": 58,
   "metadata": {},
   "outputs": [
    {
     "data": {
      "text/plain": [
       "(2, 3)"
      ]
     },
     "execution_count": 58,
     "metadata": {},
     "output_type": "execute_result"
    }
   ],
   "source": [
    "theta.shape"
   ]
  },
  {
   "cell_type": "code",
   "execution_count": 59,
   "metadata": {},
   "outputs": [
    {
     "data": {
      "text/plain": [
       "numpy.ndarray"
      ]
     },
     "execution_count": 59,
     "metadata": {},
     "output_type": "execute_result"
    }
   ],
   "source": [
    "type(theta)"
   ]
  },
  {
   "cell_type": "code",
   "execution_count": 64,
   "metadata": {},
   "outputs": [
    {
     "data": {
      "text/plain": [
       "5.592468949529758"
      ]
     },
     "execution_count": 64,
     "metadata": {},
     "output_type": "execute_result"
    }
   ],
   "source": [
    "theta[0][2]"
   ]
  },
  {
   "cell_type": "code",
   "execution_count": null,
   "metadata": {},
   "outputs": [],
   "source": []
  }
 ],
 "metadata": {
  "kernelspec": {
   "display_name": "Python 3",
   "language": "python",
   "name": "python3"
  },
  "language_info": {
   "codemirror_mode": {
    "name": "ipython",
    "version": 3
   },
   "file_extension": ".py",
   "mimetype": "text/x-python",
   "name": "python",
   "nbconvert_exporter": "python",
   "pygments_lexer": "ipython3",
   "version": "3.7.3"
  }
 },
 "nbformat": 4,
 "nbformat_minor": 2
}
