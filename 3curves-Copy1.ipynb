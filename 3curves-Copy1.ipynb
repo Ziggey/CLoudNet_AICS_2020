{
 "cells": [
  {
   "cell_type": "code",
   "execution_count": 1,
   "metadata": {},
   "outputs": [],
   "source": [
    "import numpy as np\n",
    "from sklearn.model_selection import train_test_split\n",
    "from sklearn import datasets\n",
    "import matplotlib.pyplot as plt\n",
    "import pandas as pd\n",
    "import math"
   ]
  },
  {
   "cell_type": "code",
   "execution_count": 2,
   "metadata": {},
   "outputs": [],
   "source": [
    "df_j = pd.read_csv('C:\\\\Users\\\\obinna.izima\\\\Documents\\\\Documents from Desktop_14.06.2020\\\\traces_March 8\\\\testcurves.csv')\n",
    "j = df_j['Jitter'][:1001].values\n",
    "a = j[:23]\n",
    "b = j[23:62]\n",
    "c = j[62:]\n",
    "#np.asmatrix([a,b,c])\n",
    "a = np.reshape(a, (a.shape[0], 1))\n",
    "b = np.reshape(b, (b.shape[0], 1))\n",
    "c = np.reshape(c, (c.shape[0], 1))\n",
    "\n",
    "Y = np.concatenate((a,b[:23],c[:23]), axis=1)\n",
    "Y_log = np.log(Y)"
   ]
  },
  {
   "cell_type": "code",
   "execution_count": 3,
   "metadata": {},
   "outputs": [
    {
     "data": {
      "text/plain": [
       "array([ 1,  2,  3,  4,  5,  6,  7,  8,  9, 10, 11, 12, 13, 14, 15, 16, 17,\n",
       "       18, 19, 20, 21, 22, 23])"
      ]
     },
     "execution_count": 3,
     "metadata": {},
     "output_type": "execute_result"
    }
   ],
   "source": [
    "X = np.arange(1, len(Y)+1)\n",
    "X"
   ]
  },
  {
   "cell_type": "code",
   "execution_count": 4,
   "metadata": {},
   "outputs": [
    {
     "data": {
      "text/plain": [
       "(23, 3)"
      ]
     },
     "execution_count": 4,
     "metadata": {},
     "output_type": "execute_result"
    }
   ],
   "source": [
    "Y_log.shape"
   ]
  },
  {
   "cell_type": "code",
   "execution_count": 5,
   "metadata": {},
   "outputs": [
    {
     "data": {
      "text/plain": [
       "[<matplotlib.lines.Line2D at 0x14ab2d05f98>,\n",
       " <matplotlib.lines.Line2D at 0x14ab2d131d0>,\n",
       " <matplotlib.lines.Line2D at 0x14ab2d13320>]"
      ]
     },
     "execution_count": 5,
     "metadata": {},
     "output_type": "execute_result"
    },
    {
     "data": {
      "image/png": "[encoded data removed]",
      "text/plain": [
       "<Figure size 432x288 with 1 Axes>"
      ]
     },
     "metadata": {
      "needs_background": "light"
     },
     "output_type": "display_data"
    }
   ],
   "source": [
    "plt.plot(X,Y)"
   ]
  },
  {
   "cell_type": "code",
   "execution_count": 6,
   "metadata": {
    "scrolled": true
   },
   "outputs": [],
   "source": [
    "n = len(X)\n",
    "x_bias = np.ones((n,1))\n"
   ]
  },
  {
   "cell_type": "code",
   "execution_count": 7,
   "metadata": {},
   "outputs": [],
   "source": [
    "X = np.reshape(X,(n,1))"
   ]
  },
  {
   "cell_type": "code",
   "execution_count": 8,
   "metadata": {},
   "outputs": [
    {
     "data": {
      "text/plain": [
       "(23, 1)"
      ]
     },
     "execution_count": 8,
     "metadata": {},
     "output_type": "execute_result"
    }
   ],
   "source": [
    "X.shape"
   ]
  },
  {
   "cell_type": "code",
   "execution_count": 9,
   "metadata": {},
   "outputs": [],
   "source": [
    "x_new = np.append(x_bias,X,axis=1)\n",
    "\n",
    "x_new_transpose = np.transpose(x_new)\n",
    "x_new_transpose_dot_x_new = x_new_transpose.dot(x_new)"
   ]
  },
  {
   "cell_type": "code",
   "execution_count": 10,
   "metadata": {},
   "outputs": [
    {
     "data": {
      "text/plain": [
       "(2, 2)"
      ]
     },
     "execution_count": 10,
     "metadata": {},
     "output_type": "execute_result"
    }
   ],
   "source": [
    "x_new_transpose_dot_x_new.shape"
   ]
  },
  {
   "cell_type": "code",
   "execution_count": 11,
   "metadata": {},
   "outputs": [],
   "source": [
    "temp_1 = np.linalg.inv(x_new_transpose_dot_x_new)"
   ]
  },
  {
   "cell_type": "code",
   "execution_count": 12,
   "metadata": {},
   "outputs": [],
   "source": [
    "temp_2 = x_new_transpose.dot(Y_log)"
   ]
  },
  {
   "cell_type": "code",
   "execution_count": 13,
   "metadata": {},
   "outputs": [],
   "source": [
    "theta = temp_1.dot(temp_2)"
   ]
  },
  {
   "cell_type": "code",
   "execution_count": 14,
   "metadata": {},
   "outputs": [
    {
     "name": "stdout",
     "output_type": "stream",
     "text": [
      "Coefficients :  [[ 6.53802336  6.01193513  5.59246895]\n",
      " [-0.06344226 -0.06127685 -0.06119578]]\n"
     ]
    }
   ],
   "source": [
    "print(\"Coefficients : \",theta)"
   ]
  },
  {
   "cell_type": "code",
   "execution_count": 15,
   "metadata": {},
   "outputs": [
    {
     "data": {
      "text/plain": [
       "2"
      ]
     },
     "execution_count": 15,
     "metadata": {},
     "output_type": "execute_result"
    }
   ],
   "source": [
    "len(theta)"
   ]
  },
  {
   "cell_type": "code",
   "execution_count": 16,
   "metadata": {},
   "outputs": [
    {
     "data": {
      "text/plain": [
       "[<matplotlib.lines.Line2D at 0x14ab3d62860>]"
      ]
     },
     "execution_count": 16,
     "metadata": {},
     "output_type": "execute_result"
    },
    {
     "data": {
      "image/png": "[encoded data removed]",
      "text/plain": [
       "<Figure size 432x288 with 1 Axes>"
      ]
     },
     "metadata": {
      "needs_background": "light"
     },
     "output_type": "display_data"
    }
   ],
   "source": [
    "b = math.e**(theta[0].mean())\n",
    "c = theta[1].mean()\n",
    "Y_Plot = b*math.e**(c*X)\n",
    "plt.plot(X,Y,'o')\n",
    "plt.plot(X,Y_Plot)"
   ]
  },
  {
   "cell_type": "code",
   "execution_count": 17,
   "metadata": {},
   "outputs": [],
   "source": [
    "fit = np.array([466.87439074, 437.96603127, 411.1953727 , 385.97146696,\n",
    "       362.44996697, 340.29690102, 319.54071057, 300.34124172,\n",
    "       282.17254521, 264.82705592, 248.64814388, 233.46138319,\n",
    "       219.21502998, 205.93930145, 193.42791913, 181.86236679,\n",
    "       170.84758495, 160.70343939, 151.09368511, 142.18249232,\n",
    "       133.83008798, 125.89441774, 118.79401397])"
   ]
  },
  {
   "cell_type": "code",
   "execution_count": 18,
   "metadata": {},
   "outputs": [
    {
     "data": {
      "text/plain": [
       "array([466.87439074, 437.96603127, 411.1953727 , 385.97146696,\n",
       "       362.44996697, 340.29690102, 319.54071057, 300.34124172,\n",
       "       282.17254521, 264.82705592, 248.64814388, 233.46138319,\n",
       "       219.21502998, 205.93930145, 193.42791913, 181.86236679,\n",
       "       170.84758495, 160.70343939, 151.09368511, 142.18249232,\n",
       "       133.83008798, 125.89441774, 118.79401397])"
      ]
     },
     "execution_count": 18,
     "metadata": {},
     "output_type": "execute_result"
    }
   ],
   "source": [
    "fit"
   ]
  },
  {
   "cell_type": "code",
   "execution_count": 19,
   "metadata": {},
   "outputs": [
    {
     "data": {
      "text/plain": [
       "[<matplotlib.lines.Line2D at 0x14ab420a438>]"
      ]
     },
     "execution_count": 19,
     "metadata": {},
     "output_type": "execute_result"
    },
    {
     "data": {
      "image/png": "[encoded data removed]",
      "text/plain": [
       "<Figure size 432x288 with 1 Axes>"
      ]
     },
     "metadata": {
      "needs_background": "light"
     },
     "output_type": "display_data"
    }
   ],
   "source": [
    "plt.plot(X,Y,'o')\n",
    "plt.plot(fit)"
   ]
  },
  {
   "cell_type": "code",
   "execution_count": 20,
   "metadata": {},
   "outputs": [
    {
     "data": {
      "text/plain": [
       "23"
      ]
     },
     "execution_count": 20,
     "metadata": {},
     "output_type": "execute_result"
    }
   ],
   "source": [
    "len(fit)"
   ]
  },
  {
   "cell_type": "code",
   "execution_count": 21,
   "metadata": {},
   "outputs": [
    {
     "data": {
      "text/plain": [
       "[<matplotlib.lines.Line2D at 0x14ab425e828>]"
      ]
     },
     "execution_count": 21,
     "metadata": {},
     "output_type": "execute_result"
    },
    {
     "data": {
      "image/png": "[encoded data removed]",
      "text/plain": [
       "<Figure size 432x288 with 1 Axes>"
      ]
     },
     "metadata": {
      "needs_background": "light"
     },
     "output_type": "display_data"
    }
   ],
   "source": [
    "plt.plot(X,Y_Plot)"
   ]
  },
  {
   "cell_type": "code",
   "execution_count": 22,
   "metadata": {},
   "outputs": [
    {
     "data": {
      "text/plain": [
       "-0.061971627900407444"
      ]
     },
     "execution_count": 22,
     "metadata": {},
     "output_type": "execute_result"
    }
   ],
   "source": [
    "c"
   ]
  },
  {
   "cell_type": "code",
   "execution_count": 23,
   "metadata": {},
   "outputs": [
    {
     "data": {
      "text/plain": [
       "array([[650.2120319],\n",
       "       [609.6619535],\n",
       "       [571.9492203],\n",
       "       [536.4599426],\n",
       "       [503.3212726],\n",
       "       [472.1334361],\n",
       "       [443.0139852],\n",
       "       [415.7232848],\n",
       "       [390.1294684],\n",
       "       [365.9167447],\n",
       "       [343.433587 ],\n",
       "       [322.1317239],\n",
       "       [302.2658523],\n",
       "       [283.7633129],\n",
       "       [266.2925989],\n",
       "       [249.8895476],\n",
       "       [234.6623398],\n",
       "       [220.3889574],\n",
       "       [206.8540781],\n",
       "       [194.1904344],\n",
       "       [182.4447336],\n",
       "       [171.3749864],\n",
       "       [161.6639733]])"
      ]
     },
     "execution_count": 23,
     "metadata": {},
     "output_type": "execute_result"
    }
   ],
   "source": [
    "a"
   ]
  },
  {
   "cell_type": "code",
   "execution_count": 24,
   "metadata": {},
   "outputs": [],
   "source": [
    "est = b*math.e**(c*a)"
   ]
  },
  {
   "cell_type": "code",
   "execution_count": 25,
   "metadata": {},
   "outputs": [
    {
     "data": {
      "text/plain": [
       "array([[1.33850606e-15],\n",
       "       [1.65189545e-14],\n",
       "       [1.70993911e-13],\n",
       "       [1.54218614e-12],\n",
       "       [1.20234428e-11],\n",
       "       [8.30646572e-11],\n",
       "       [5.04818563e-10],\n",
       "       [2.73927403e-09],\n",
       "       [1.33802990e-08],\n",
       "       [5.99964446e-08],\n",
       "       [2.41677257e-07],\n",
       "       [9.04800359e-07],\n",
       "       [3.09899989e-06],\n",
       "       [9.75433627e-06],\n",
       "       [2.88007238e-05],\n",
       "       [7.95928536e-05],\n",
       "       [2.04502289e-04],\n",
       "       [4.95280322e-04],\n",
       "       [1.14585047e-03],\n",
       "       [2.51163453e-03],\n",
       "       [5.20091176e-03],\n",
       "       [1.03278508e-02],\n",
       "       [1.88526124e-02]])"
      ]
     },
     "execution_count": 25,
     "metadata": {},
     "output_type": "execute_result"
    }
   ],
   "source": [
    "est"
   ]
  },
  {
   "cell_type": "code",
   "execution_count": 26,
   "metadata": {},
   "outputs": [
    {
     "data": {
      "text/plain": [
       "[<matplotlib.lines.Line2D at 0x14ab42bb208>]"
      ]
     },
     "execution_count": 26,
     "metadata": {},
     "output_type": "execute_result"
    },
    {
     "data": {
      "image/png": "[encoded data removed]",
      "text/plain": [
       "<Figure size 432x288 with 1 Axes>"
      ]
     },
     "metadata": {
      "needs_background": "light"
     },
     "output_type": "display_data"
    }
   ],
   "source": [
    "plt.plot(est)"
   ]
  },
  {
   "cell_type": "code",
   "execution_count": 27,
   "metadata": {},
   "outputs": [
    {
     "data": {
      "text/plain": [
       "array([650.2120319 , 609.6619535 , 571.9492203 , 536.4599426 ,\n",
       "       503.3212726 , 472.1334361 , 443.0139852 , 415.7232848 ,\n",
       "       390.1294684 , 365.9167447 , 343.433587  , 322.1317239 ,\n",
       "       302.2658523 , 283.7633129 , 266.2925989 , 249.8895476 ,\n",
       "       234.6623398 , 220.3889574 , 206.8540781 , 194.1904344 ,\n",
       "       182.4447336 , 171.3749864 , 161.6639733 , 386.859093  ,\n",
       "       363.1057122 , 341.013751  , 320.2696555 , 300.8559479 ,\n",
       "       282.658347  , 265.3412211 , 249.3604781 , 234.3815941 ,\n",
       "       220.3387028 , 207.1730477 , 194.8310656 , 183.2602698 ,\n",
       "       172.4127113 , 162.2431877 , 152.7092593 , 143.6598195 ,\n",
       "       135.2843516 , 127.4347254 , 120.0760134 , 113.1775334 ,\n",
       "       106.7099584 , 100.6459124 ,  94.92368177,  89.5520211 ,\n",
       "        84.51545728,  79.79443565,  75.36835286,  71.21896275,\n",
       "        67.32890953,  63.68192213,  60.26274644,  56.72601923,\n",
       "        53.73452497,  50.91843661,  48.29522182,  45.8021524 ,\n",
       "        43.44271232,  41.28436224, 253.1438049 , 237.5842962 ,\n",
       "       223.4726388 , 210.0449322 , 197.6531031 , 185.8601106 ,\n",
       "       174.9801453 , 165.3012821 , 155.7069311 , 146.000609  ,\n",
       "       136.8991751 , 128.5749559 , 120.6183545 , 113.2631309 ,\n",
       "       106.3131019 , 100.3375539 ,  94.13977619,  88.77665824,\n",
       "        83.61974904,  79.05989667,  74.63870868,  70.23554633,\n",
       "        66.36631774,  62.99036733,  59.57308743,  56.37170002,\n",
       "        53.37033682,  50.79469772,  47.70728605,  44.92402512,\n",
       "        42.6168291 ,  40.18378423,  38.19254077,  36.03269447,\n",
       "        33.96603301,  32.36296151,  30.53097086,  28.76291712,\n",
       "        27.14086675,  25.89788202,  25.21670884,  24.16956037,\n",
       "        23.18960868,  21.91448036,  20.6066795 ,  19.84840787])"
      ]
     },
     "execution_count": 27,
     "metadata": {},
     "output_type": "execute_result"
    }
   ],
   "source": [
    "j"
   ]
  },
  {
   "cell_type": "code",
   "execution_count": 28,
   "metadata": {},
   "outputs": [
    {
     "data": {
      "text/plain": [
       "array([650.2120319, 609.6619535, 571.9492203, 536.4599426, 503.3212726,\n",
       "       472.1334361, 443.0139852, 415.7232848, 390.1294684, 365.9167447,\n",
       "       343.433587 , 322.1317239, 302.2658523, 283.7633129, 266.2925989,\n",
       "       249.8895476, 234.6623398, 220.3889574, 206.8540781, 194.1904344,\n",
       "       182.4447336, 171.3749864, 161.6639733])"
      ]
     },
     "execution_count": 28,
     "metadata": {},
     "output_type": "execute_result"
    }
   ],
   "source": [
    "j[:23]"
   ]
  },
  {
   "cell_type": "code",
   "execution_count": 29,
   "metadata": {},
   "outputs": [
    {
     "data": {
      "text/plain": [
       "array([386.859093  , 363.1057122 , 341.013751  , 320.2696555 ,\n",
       "       300.8559479 , 282.658347  , 265.3412211 , 249.3604781 ,\n",
       "       234.3815941 , 220.3387028 , 207.1730477 , 194.8310656 ,\n",
       "       183.2602698 , 172.4127113 , 162.2431877 , 152.7092593 ,\n",
       "       143.6598195 , 135.2843516 , 127.4347254 , 120.0760134 ,\n",
       "       113.1775334 , 106.7099584 , 100.6459124 ,  94.92368177,\n",
       "        89.5520211 ,  84.51545728,  79.79443565,  75.36835286,\n",
       "        71.21896275,  67.32890953,  63.68192213,  60.26274644,\n",
       "        56.72601923,  53.73452497,  50.91843661,  48.29522182,\n",
       "        45.8021524 ,  43.44271232,  41.28436224])"
      ]
     },
     "execution_count": 29,
     "metadata": {},
     "output_type": "execute_result"
    }
   ],
   "source": [
    "j[23:62]"
   ]
  },
  {
   "cell_type": "code",
   "execution_count": 30,
   "metadata": {},
   "outputs": [
    {
     "data": {
      "text/plain": [
       "array([253.1438049 , 237.5842962 , 223.4726388 , 210.0449322 ,\n",
       "       197.6531031 , 185.8601106 , 174.9801453 , 165.3012821 ,\n",
       "       155.7069311 , 146.000609  , 136.8991751 , 128.5749559 ,\n",
       "       120.6183545 , 113.2631309 , 106.3131019 , 100.3375539 ,\n",
       "        94.13977619,  88.77665824,  83.61974904,  79.05989667,\n",
       "        74.63870868,  70.23554633,  66.36631774,  62.99036733,\n",
       "        59.57308743,  56.37170002,  53.37033682,  50.79469772,\n",
       "        47.70728605,  44.92402512,  42.6168291 ,  40.18378423,\n",
       "        38.19254077,  36.03269447,  33.96603301,  32.36296151,\n",
       "        30.53097086,  28.76291712,  27.14086675,  25.89788202,\n",
       "        25.21670884,  24.16956037,  23.18960868,  21.91448036,\n",
       "        20.6066795 ,  19.84840787])"
      ]
     },
     "execution_count": 30,
     "metadata": {},
     "output_type": "execute_result"
    }
   ],
   "source": [
    "j[62:]"
   ]
  },
  {
   "cell_type": "code",
   "execution_count": null,
   "metadata": {},
   "outputs": [],
   "source": []
  }
 ],
 "metadata": {
  "kernelspec": {
   "display_name": "Python 3",
   "language": "python",
   "name": "python3"
  },
  "language_info": {
   "codemirror_mode": {
    "name": "ipython",
    "version": 3
   },
   "file_extension": ".py",
   "mimetype": "text/x-python",
   "name": "python",
   "nbconvert_exporter": "python",
   "pygments_lexer": "ipython3",
   "version": "3.7.2"
  }
 },
 "nbformat": 4,
 "nbformat_minor": 2
}
