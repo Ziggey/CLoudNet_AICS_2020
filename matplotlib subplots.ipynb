{
 "cells": [
  {
   "cell_type": "code",
   "execution_count": 3,
   "metadata": {},
   "outputs": [],
   "source": [
    "#https://towardsdatascience.com/subplots-in-matplotlib-a-guide-and-tool-for-planning-your-plots-7d63fa632857"
   ]
  },
  {
   "cell_type": "code",
   "execution_count": null,
   "metadata": {},
   "outputs": [],
   "source": [
    "#https://qed0711.github.io/plot-planner/"
   ]
  },
  {
   "cell_type": "code",
   "execution_count": 1,
   "metadata": {},
   "outputs": [],
   "source": [
    "import matplotlib.pyplot as plt\n",
    "%matplotlib inline"
   ]
  },
  {
   "cell_type": "code",
   "execution_count": 2,
   "metadata": {},
   "outputs": [
    {
     "data": {
      "text/plain": [
       "Text(0.5, 0.5, 'ax5')"
      ]
     },
     "execution_count": 2,
     "metadata": {},
     "output_type": "execute_result"
    },
    {
     "data": {
      "image/png": "[encoded data removed]",
      "text/plain": [
       "<Figure size 576x576 with 5 Axes>"
      ]
     },
     "metadata": {},
     "output_type": "display_data"
    }
   ],
   "source": [
    "    \n",
    "fig = plt.figure(figsize=(8,8))\n",
    "ax1 = fig.add_subplot(1, 2, 1, xticklabels=[], yticklabels=[], xticks=[], yticks=[], fc=\"red\",)\n",
    "ax2 = fig.add_subplot(2, 2, 2, xticklabels=[], yticklabels=[], xticks=[], yticks=[], fc=\"blue\")\n",
    "ax3 = fig.add_subplot(4, 2, 6, xticklabels=[], yticklabels=[], xticks=[], yticks=[], fc=\"yellow\")\n",
    "ax4 = fig.add_subplot(8, 2, 14, xticklabels=[], yticklabels=[], xticks=[], yticks=[], fc=\"green\")\n",
    "ax5 = fig.add_subplot(8, 2, 16, xticklabels=[], yticklabels=[], xticks=[], yticks=[], fc=\"orange\")\n",
    "ax1.text(0.5, 0.5, \"ax1\", horizontalalignment='center', verticalalignment='center')\n",
    "ax2.text(0.5, 0.5, \"ax2\", horizontalalignment='center', verticalalignment='center')\n",
    "ax3.text(0.5, 0.5, \"ax3\", horizontalalignment='center', verticalalignment='center')\n",
    "ax4.text(0.5, 0.5, \"ax4\", horizontalalignment='center', verticalalignment='center')\n",
    "ax5.text(0.5, 0.5, \"ax5\", horizontalalignment='center', verticalalignment='center')"
   ]
  },
  {
   "cell_type": "code",
   "execution_count": 8,
   "metadata": {},
   "outputs": [
    {
     "data": {
      "text/plain": [
       "Text(0.5, 0.5, 'ax3')"
      ]
     },
     "execution_count": 8,
     "metadata": {},
     "output_type": "execute_result"
    },
    {
     "data": {
      "image/png": "[encoded data removed]",
      "text/plain": [
       "<Figure size 576x576 with 3 Axes>"
      ]
     },
     "metadata": {},
     "output_type": "display_data"
    }
   ],
   "source": [
    "fig = plt.figure(figsize=(8,8))\n",
    "ax1 = plt.subplot2grid((3, 2), (0, 0), rowspan=2, colspan=1, xticklabels=[], yticklabels=[], xticks=[], yticks=[], fc=\"red\",)\n",
    "ax2 = plt.subplot2grid((3, 2), (2, 0), rowspan=1, colspan=1, xticklabels=[], yticklabels=[], xticks=[], yticks=[], fc=\"blue\",)\n",
    "ax3 = plt.subplot2grid((3, 2), (0, 1), rowspan=3, colspan=1, xticklabels=[], yticklabels=[], xticks=[], yticks=[], fc=\"orange\",)\n",
    "ax1.text(0.5, 0.5, \"ax1 \\n(rows = 2/3)\", horizontalalignment='center', verticalalignment='center')\n",
    "ax2.text(0.5, 0.5, \"ax2\", horizontalalignment='center', verticalalignment='center')\n",
    "ax3.text(0.5, 0.5, \"ax3\", horizontalalignment='center', verticalalignment='center')"
   ]
  },
  {
   "cell_type": "code",
   "execution_count": 12,
   "metadata": {},
   "outputs": [
    {
     "data": {
      "text/plain": [
       "Text(0.5, 0.5, 'ax2')"
      ]
     },
     "execution_count": 12,
     "metadata": {},
     "output_type": "execute_result"
    },
    {
     "data": {
      "image/png": "[encoded data removed]",
      "text/plain": [
       "<Figure size 720x576 with 2 Axes>"
      ]
     },
     "metadata": {},
     "output_type": "display_data"
    }
   ],
   "source": [
    "fig = plt.figure(figsize=(10,8))\n",
    "ax1 = plt.subplot2grid((2, 2), (0, 0), rowspan=1, colspan=2, xticklabels=[], yticklabels=[], xticks=[], yticks=[], fc=\"red\",)\n",
    "ax2 = plt.subplot2grid((2, 2), (1, 0), rowspan=1, colspan=2, xticklabels=[], yticklabels=[], xticks=[], yticks=[], fc=\"blue\",)\n",
    "#ax3 = plt.subplot2grid((3, 2), (0, 1), rowspan=3, colspan=1, xticklabels=[], yticklabels=[], xticks=[], yticks=[], fc=\"orange\",)\n",
    "ax1.text(0.5, 0.5, \"ax1 \\n(rows = 2/3)\", horizontalalignment='center', verticalalignment='center')\n",
    "ax2.text(0.5, 0.5, \"ax2\", horizontalalignment='center', verticalalignment='center')\n",
    "#ax3.text(0.5, 0.5, \"ax3\", horizontalalignment='center', verticalalignment='center')"
   ]
  },
  {
   "cell_type": "code",
   "execution_count": 15,
   "metadata": {},
   "outputs": [
    {
     "data": {
      "text/plain": [
       "Text(0.5, 0.5, 'ax3')"
      ]
     },
     "execution_count": 15,
     "metadata": {},
     "output_type": "execute_result"
    },
    {
     "data": {
      "image/png": "[encoded data removed]",
      "text/plain": [
       "<Figure size 864x864 with 3 Axes>"
      ]
     },
     "metadata": {},
     "output_type": "display_data"
    }
   ],
   "source": [
    "fig = plt.figure(figsize=(12,12))\n",
    "ax1 = plt.subplot2grid((3, 2), (0, 0), rowspan=2, colspan=1, xticklabels=[], yticklabels=[], xticks=[], yticks=[], fc=\"red\",)\n",
    "ax2 = plt.subplot2grid((3, 2), (2, 0), rowspan=1, colspan=1, xticklabels=[], yticklabels=[], xticks=[], yticks=[], fc=\"blue\",)\n",
    "ax3 = plt.subplot2grid((3, 2), (0, 1), rowspan=3, colspan=1, xticklabels=[], yticklabels=[], xticks=[], yticks=[], fc=\"orange\",)\n",
    "ax1.text(0.5, 0.5, \"ax1 \\n(rows = 2/3)\", horizontalalignment='center', verticalalignment='center')\n",
    "ax2.text(0.5, 0.5, \"ax2\", horizontalalignment='center', verticalalignment='center')\n",
    "ax3.text(0.5, 0.5, \"ax3\", horizontalalignment='center', verticalalignment='center')"
   ]
  },
  {
   "cell_type": "code",
   "execution_count": null,
   "metadata": {},
   "outputs": [],
   "source": []
  }
 ],
 "metadata": {
  "kernelspec": {
   "display_name": "Python 3",
   "language": "python",
   "name": "python3"
  },
  "language_info": {
   "codemirror_mode": {
    "name": "ipython",
    "version": 3
   },
   "file_extension": ".py",
   "mimetype": "text/x-python",
   "name": "python",
   "nbconvert_exporter": "python",
   "pygments_lexer": "ipython3",
   "version": "3.7.3"
  }
 },
 "nbformat": 4,
 "nbformat_minor": 2
}
